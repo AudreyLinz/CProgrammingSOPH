{
 "cells": [
  {
   "cell_type": "code",
   "execution_count": 8,
   "id": "99288533",
   "metadata": {},
   "outputs": [
    {
     "name": "stdout",
     "output_type": "stream",
     "text": [
      "Product: Laptop| Price: 1200.0 | Category: Electronics\n"
     ]
    }
   ],
   "source": [
    "def get_product():\n",
    "    return (\"Laptop\", 1200.00, \"Electronics\")\n",
    "t = get_product();\n",
    "print(\"Product: \" + t[0] + \"| Price: \" + str(t[1]) + \" | Category: \" + t[2])"
   ]
  },
  {
   "cell_type": "code",
   "execution_count": 9,
   "id": "21d1513d",
   "metadata": {},
   "outputs": [
    {
     "name": "stdout",
     "output_type": "stream",
     "text": [
      "{'name': 'Jane', 'grades': [85, 90, 88], 'Passed': True}\n"
     ]
    }
   ],
   "source": [
    "student = {\n",
    "    \"name\": \"Jane\",\n",
    "    \"grades\": [85, 90, 78]\n",
    "}\n",
    "\n",
    "student[\"Passed\"] = True\n",
    "student[\"grades\"][2]= 88\n",
    "print(student)"
   ]
  },
  {
   "cell_type": "code",
   "execution_count": null,
   "id": "91f79d24",
   "metadata": {},
   "outputs": [
    {
     "name": "stdout",
     "output_type": "stream",
     "text": [
      "BBT\n"
     ]
    }
   ],
   "source": [
    "s = \"BI1BKDTPEPQAT\"\n",
    "attend = s[::3] #start:stop:step\n",
    "print(attend)"
   ]
  }
 ],
 "metadata": {
  "kernelspec": {
   "display_name": "Python 3 (ipykernel)",
   "language": "python",
   "name": "python3"
  }
 },
 "nbformat": 4,
 "nbformat_minor": 5
}
