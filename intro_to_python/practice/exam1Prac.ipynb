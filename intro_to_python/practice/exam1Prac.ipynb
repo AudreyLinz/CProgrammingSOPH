{
 "cells": [
  {
   "cell_type": "code",
   "execution_count": 19,
   "id": "ce98ef9a",
   "metadata": {},
   "outputs": [
    {
     "name": "stdout",
     "output_type": "stream",
     "text": [
      "Alice\n",
      "500.0\n",
      "300.0\n",
      "Withdraw 200, remaining balance: 100.0\n",
      "Deposit 1000, remaining balance: 1100.0\n",
      "negative balance error\n",
      "name error\n"
     ]
    }
   ],
   "source": [
    "class BankAccount:\n",
    "    def __init__(self, name, balance):\n",
    "        self._name = name\n",
    "        self._balance = balance\n",
    "    \n",
    "    @property\n",
    "    def name(self):\n",
    "        return self._name\n",
    "    @property\n",
    "    def balance(self):\n",
    "        return self._balance\n",
    "    \n",
    "    @name.setter\n",
    "    def name(self, value):\n",
    "        if value == \"\":\n",
    "            print(\"name error\")\n",
    "        else:\n",
    "            self._name = value\n",
    "\n",
    "    @balance.setter\n",
    "    def balance(self, value):\n",
    "        if value < 0:\n",
    "            print(\"negative balance error\")\n",
    "        else:\n",
    "            self._balance = value\n",
    "    def __sub__(self, other): #withdraw\n",
    "        return self._balance - other._balance\n",
    "    def __add__(self, other): #deposit\n",
    "        return self._balance + other._balance\n",
    "\n",
    "acc = BankAccount(\"Alice\", 500.0)\n",
    "print(acc.name)   # Output: Alice\n",
    "print(acc.balance)               # Output: 500.0\n",
    "\n",
    "acc.balance = 300.0              # Updates balance\n",
    "print(acc.balance)               # Output: 300.0\n",
    "\n",
    "print(f\"Withdraw 200, remaining balance: {acc.balance - 200}\")\n",
    "acc.balance = acc.balance - 200\n",
    "print(f\"Deposit 1000, remaining balance: {acc.balance + 1000}\")\n",
    "\n",
    "acc.balance = -50                # Invalid, prints error, doesn't change balance\n",
    "\n",
    "acc.name = \"\"     # Invalid, prints error\n",
    "\n"
   ]
  },
  {
   "cell_type": "code",
   "execution_count": 27,
   "id": "a29e59a1",
   "metadata": {},
   "outputs": [
    {
     "name": "stdout",
     "output_type": "stream",
     "text": [
      "Alice\n",
      "500.0\n",
      "New balance 1000.0\n",
      "New balance 700.0\n"
     ]
    }
   ],
   "source": [
    "class BankAccount:\n",
    "    def __init__(self, name, balance):\n",
    "        self._name = name\n",
    "        self._balance = balance\n",
    "    \n",
    "    @property\n",
    "    def name(self):\n",
    "        return self._name\n",
    "    @property\n",
    "    def balance(self):\n",
    "        return self._balance\n",
    "    \n",
    "    @name.setter\n",
    "    def name(self, value):\n",
    "        if value == \"\":\n",
    "            print(\"name error\")\n",
    "        else:\n",
    "            self._name = value\n",
    "\n",
    "    @balance.setter\n",
    "    def balance(self, value):\n",
    "        if value < 0:\n",
    "            print(\"negative balance error\")\n",
    "        else:\n",
    "            self._balance = value\n",
    "    def deposit(self, other):\n",
    "        if(other < 0):\n",
    "            print(\"Cant deposit negative\")\n",
    "        else:\n",
    "            self._balance += other\n",
    "            print(f\"New balance\", self._balance)\n",
    "    def withdraw(self, other):\n",
    "        if(other < 0):\n",
    "            print(\"Cant deposit negative\")\n",
    "        else:\n",
    "            self._balance -= other\n",
    "            print(f\"New balance\", self._balance)\n",
    "\n",
    "acc = BankAccount(\"Alice\", 500.0)\n",
    "print(acc.name)   # Output: Alice\n",
    "print(acc.balance)               # Output: 500.0\n",
    "\n",
    "acc.deposit(500)\n",
    "acc.withdraw(300)\n",
    "\n"
   ]
  }
 ],
 "metadata": {
  "kernelspec": {
   "display_name": "Python 3 (ipykernel)",
   "language": "python",
   "name": "python3"
  },
  "language_info": {
   "codemirror_mode": {
    "name": "ipython",
    "version": 3
   },
   "file_extension": ".py",
   "mimetype": "text/x-python",
   "name": "python",
   "nbconvert_exporter": "python",
   "pygments_lexer": "ipython3",
   "version": "3.12.1"
  }
 },
 "nbformat": 4,
 "nbformat_minor": 5
}
