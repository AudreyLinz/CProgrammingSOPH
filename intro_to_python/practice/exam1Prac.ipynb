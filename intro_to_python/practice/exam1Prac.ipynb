{
 "cells": [
  {
   "cell_type": "code",
   "execution_count": 19,
   "id": "ce98ef9a",
   "metadata": {},
   "outputs": [
    {
     "name": "stdout",
     "output_type": "stream",
     "text": [
      "Alice\n",
      "500.0\n",
      "300.0\n",
      "Withdraw 200, remaining balance: 100.0\n",
      "Deposit 1000, remaining balance: 1100.0\n",
      "negative balance error\n",
      "name error\n"
     ]
    }
   ],
   "source": [
    "class BankAccount:\n",
    "    def __init__(self, name, balance):\n",
    "        self._name = name\n",
    "        self._balance = balance\n",
    "    \n",
    "    @property\n",
    "    def name(self):\n",
    "        return self._name\n",
    "    @property\n",
    "    def balance(self):\n",
    "        return self._balance\n",
    "    \n",
    "    @name.setter\n",
    "    def name(self, value):\n",
    "        if value == \"\":\n",
    "            print(\"name error\")\n",
    "        else:\n",
    "            self._name = value\n",
    "\n",
    "    @balance.setter\n",
    "    def balance(self, value):\n",
    "        if value < 0:\n",
    "            print(\"negative balance error\")\n",
    "        else:\n",
    "            self._balance = value\n",
    "    def __sub__(self, other): #withdraw\n",
    "        return self._balance - other._balance\n",
    "    def __add__(self, other): #deposit\n",
    "        return self._balance + other._balance\n",
    "\n",
    "acc = BankAccount(\"Alice\", 500.0)\n",
    "print(acc.name)   # Output: Alice\n",
    "print(acc.balance)               # Output: 500.0\n",
    "\n",
    "acc.balance = 300.0              # Updates balance\n",
    "print(acc.balance)               # Output: 300.0\n",
    "\n",
    "print(f\"Withdraw 200, remaining balance: {acc.balance - 200}\")\n",
    "acc.balance = acc.balance - 200\n",
    "print(f\"Deposit 1000, remaining balance: {acc.balance + 1000}\")\n",
    "\n",
    "acc.balance = -50                # Invalid, prints error, doesn't change balance\n",
    "\n",
    "acc.name = \"\"     # Invalid, prints error\n",
    "\n"
   ]
  },
  {
   "cell_type": "code",
   "execution_count": 26,
   "id": "a29e59a1",
   "metadata": {},
   "outputs": [
    {
     "name": "stdout",
     "output_type": "stream",
     "text": [
      "Alice\n",
      "500.0\n",
      "New balance 1000.0\n",
      "New balance 700.0\n"
     ]
    }
   ],
   "source": [
    "class BankAccount:\n",
    "    def __init__(self, name, balance):\n",
    "        self._name = name\n",
    "        self._balance = balance\n",
    "    \n",
    "    @property\n",
    "    def name(self):\n",
    "        return self._name\n",
    "    @property\n",
    "    def balance(self):\n",
    "        return self._balance\n",
    "    \n",
    "    @name.setter\n",
    "    def name(self, value):\n",
    "        if value == \"\":\n",
    "            print(\"name error\")\n",
    "        else:\n",
    "            self._name = value\n",
    "\n",
    "    @balance.setter\n",
    "    def balance(self, value):\n",
    "        if value < 0:\n",
    "            print(\"negative balance error\")\n",
    "        else:\n",
    "            self._balance = value\n",
    "    def deposit(self, other):\n",
    "        if(other < 0):\n",
    "            print(\"Cant deposit negative\")\n",
    "        else:\n",
    "            self._balance += other\n",
    "            print(f\"New balance\", self._balance)\n",
    "    def withdraw(self, other):\n",
    "        if(other < 0):\n",
    "            print(\"Cant deposit negative\")\n",
    "        else:\n",
    "            self._balance -= other\n",
    "            print(f\"New balance\", self._balance)\n",
    "\n",
    "acc = BankAccount(\"Alice\", 500.0)\n",
    "print(acc.name)   # Output: Alice\n",
    "print(acc.balance)               # Output: 500.0\n",
    "\n",
    "acc.deposit(500)\n",
    "acc.withdraw(300)\n",
    "\n"
   ]
  },
  {
   "cell_type": "code",
   "execution_count": 1,
   "id": "0780af52",
   "metadata": {},
   "outputs": [
    {
     "name": "stdout",
     "output_type": "stream",
     "text": [
      "Model: Corolla, Make: Toyota, Year: 1998\n",
      "Model: Focus, Make: Ford, Year: 2010\n",
      "Vehicle count: 2\n",
      "Is v1 classic? True\n",
      "Is v1 newer than v2? False\n",
      "Model: M3, Make: BMW, Year: 2020, Horsepower: 425\n",
      "Model: RS5, Make: Audi, Year: 2022, Horsepower: 444\n",
      "Total Horsepower: 869\n"
     ]
    }
   ],
   "source": [
    "class Vehicle:\n",
    "    vehicle_count = 0\n",
    "    def __init__(self, make, model, year):\n",
    "        self.make = make\n",
    "        self.model = model\n",
    "        self._year = year\n",
    "        Vehicle.vehicle_count += 1\n",
    "    \n",
    "    def info(self):\n",
    "        return f\"Model: {self.model}, Make: {self.make}, Year: {self._year}\"\n",
    "\n",
    "    def get_year(self):\n",
    "        return self._year\n",
    "\n",
    "    def set_year(self, value):\n",
    "        if value < 0:\n",
    "            print(\"Year can't be negative\")\n",
    "        else:\n",
    "            self._year = value\n",
    "\n",
    "    @classmethod\n",
    "    def get_vehicle_count(cls):\n",
    "        return cls.vehicle_count\n",
    "    \n",
    "    @staticmethod\n",
    "    def is_classic(year):\n",
    "        return year < 2000\n",
    "\n",
    "    def __gt__(self, other):\n",
    "        return self._year > other._year\n",
    "    \n",
    "    def __str__(self):\n",
    "        return f\"Model: {self.model}, Make: {self.make}, Year: {self._year}\"\n",
    "\n",
    "class Car(Vehicle):\n",
    "    def __init__(self, make, model, year, horsepower):\n",
    "        super().__init__(make, model, year)\n",
    "        self.horsepower = horsepower\n",
    "    \n",
    "    def info(self):\n",
    "        return f\"Model: {self.model}, Make: {self.make}, Year: {self._year}, Horsepower: {self.horsepower}\"\n",
    "\n",
    "    def __add__(self, other):\n",
    "        return self.horsepower + other.horsepower\n",
    "v1 = Vehicle(\"Toyota\", \"Corolla\", 1998)\n",
    "v2 = Vehicle(\"Ford\", \"Focus\", 2010)\n",
    "\n",
    "print(v1.info())\n",
    "print(v2.info())\n",
    "\n",
    "print(\"Vehicle count:\", Vehicle.get_vehicle_count())\n",
    "print(\"Is v1 classic?\", Vehicle.is_classic(v1.get_year()))\n",
    "print(\"Is v1 newer than v2?\", v1 > v2)\n",
    "\n",
    "c1 = Car(\"BMW\", \"M3\", 2020, 425)\n",
    "c2 = Car(\"Audi\", \"RS5\", 2022, 444)\n",
    "\n",
    "print(c1.info())\n",
    "print(c2.info())\n",
    "print(\"Total Horsepower:\", c1 + c2)\n"
   ]
  },
  {
   "cell_type": "code",
   "execution_count": 6,
   "id": "17b37e91",
   "metadata": {},
   "outputs": [
    {
     "name": "stdout",
     "output_type": "stream",
     "text": [
      "2.0\n",
      "4.0\n",
      "3.141592653589793\n"
     ]
    }
   ],
   "source": [
    "#imports\n",
    "import math\n",
    "print(math.sqrt(4))\n",
    "\n",
    "import math as m\n",
    "print(m.sqrt(16))\n",
    "\n",
    "from math import pi\n",
    "print(pi)"
   ]
  },
  {
   "cell_type": "code",
   "execution_count": null,
   "id": "87a43b16",
   "metadata": {},
   "outputs": [
    {
     "name": "stdout",
     "output_type": "stream",
     "text": [
      "meow\n",
      "weep\n"
     ]
    }
   ],
   "source": [
    "#decorators\n",
    "def decorator(func):\n",
    "    def wrapper(*args, **kwargs):\n",
    "        print(\"meow\")\n",
    "        result = func(*args, **kwargs)\n",
    "        print(\"sandwich\")\n",
    "        return result\n",
    "    return wrapper\n",
    "\n",
    "\n",
    "@decorator\n",
    "def add(string):\n",
    "    return string\n",
    "\n",
    "print(add(\"weep\"))\n"
   ]
  },
  {
   "cell_type": "code",
   "execution_count": 40,
   "id": "97d81649",
   "metadata": {},
   "outputs": [
    {
     "name": "stdout",
     "output_type": "stream",
     "text": [
      "[2, 4, 6, 8, 10]\n"
     ]
    }
   ],
   "source": [
    "nums = [1, 2, 3, 4, 5, 6, 7, 8, 9, 10]\n",
    "nums = list(filter(lambda x: x%2==0, nums))\n",
    "print(nums)"
   ]
  },
  {
   "cell_type": "code",
   "execution_count": 42,
   "id": "124d4992",
   "metadata": {},
   "outputs": [
    {
     "name": "stdout",
     "output_type": "stream",
     "text": [
      "['hello', 'world']\n"
     ]
    }
   ],
   "source": [
    "words = [\"hi\", \"hello\", \"a\", \"world\"]\n",
    "words = list(filter(lambda x: len(x) > 3, words))\n",
    "print(words)"
   ]
  },
  {
   "cell_type": "code",
   "execution_count": 44,
   "id": "51793cb7",
   "metadata": {},
   "outputs": [
    {
     "name": "stdout",
     "output_type": "stream",
     "text": [
      "Returns the square of a number.\n",
      "16\n"
     ]
    }
   ],
   "source": [
    "def square(n):\n",
    "    \"\"\"Returns the square of a number.\"\"\"\n",
    "    return n * n\n",
    "\n",
    "print(square.__doc__)  # Prints the docstring\n",
    "print(square(4))\n"
   ]
  },
  {
   "cell_type": "code",
   "execution_count": 1,
   "id": "587ffb5f",
   "metadata": {},
   "outputs": [
    {
     "name": "stdout",
     "output_type": "stream",
     "text": [
      "0\n",
      "2\n",
      "4\n",
      "6\n",
      "8\n",
      "10\n",
      "5\n",
      "4\n",
      "3\n",
      "2\n",
      "1\n",
      "Name: Alice\n",
      "Age: 20\n"
     ]
    }
   ],
   "source": [
    "x = [0, 1, 2, 3, 4, 5, 6, 7, 8, 9, 10]\n",
    "for num in x:\n",
    "    if(num%2==0):\n",
    "        print(num)\n",
    "\n",
    "i = 5\n",
    "while (i >= 1):\n",
    "    print(i)\n",
    "    i -= 1\n",
    "\n",
    "student = {\"name\": \"Alice\", \"age\": 20}\n",
    "for key, value in student.items():\n",
    "    key = key.title()\n",
    "    print(f\"{key}: {value}\")\n"
   ]
  },
  {
   "cell_type": "code",
   "execution_count": null,
   "id": "7ddc348d",
   "metadata": {},
   "outputs": [
    {
     "name": "stdout",
     "output_type": "stream",
     "text": [
      "First letter: P, Last letter: g\n",
      "a in banana: 3\n",
      "hello world\n"
     ]
    }
   ],
   "source": [
    "word = \"Programming\"\n",
    "print(f\"First letter: {word[0]}, Last letter: {word[-1]}\")\n",
    "word = \"banana\"\n",
    "print(f\"a in banana: {word.count('a')}\")\n",
    "word= \" Hello World \"\n",
    "word = word.strip(' ')\n",
    "word = word.lower()\n",
    "print(word)\n"
   ]
  },
  {
   "cell_type": "code",
   "execution_count": null,
   "id": "fd7a4099",
   "metadata": {},
   "outputs": [],
   "source": []
  }
 ],
 "metadata": {
  "kernelspec": {
   "display_name": "Python 3 (ipykernel)",
   "language": "python",
   "name": "python3"
  }
 },
 "nbformat": 4,
 "nbformat_minor": 5
}
