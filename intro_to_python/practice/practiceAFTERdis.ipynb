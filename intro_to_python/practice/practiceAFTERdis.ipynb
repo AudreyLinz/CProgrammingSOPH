{
 "cells": [
  {
   "cell_type": "code",
   "execution_count": 5,
   "id": "6670a619",
   "metadata": {},
   "outputs": [
    {
     "name": "stdout",
     "output_type": "stream",
     "text": [
      "dict_keys(['mob', 'num', 'biome'])\n",
      "dict_values(['skeleton', 4, 'savanna'])\n",
      "dict_items([('mob', 'skeleton'), ('num', 4), ('biome', 'savanna')])\n",
      "4\n",
      "None\n"
     ]
    }
   ],
   "source": [
    "#dictionaries\n",
    "my_dict = {'mob': \"skeleton\", 'num': 5}\n",
    "my_dict['num'] = 4 #killed one yipe\n",
    "\n",
    "my_dict['biome'] = \"savanna\" #frick this biome man\n",
    "\n",
    "print(my_dict.keys())\n",
    "print(my_dict.values())\n",
    "print(my_dict.items())\n",
    "print(my_dict.get('num'))\n",
    "my_dict.pop('num')\n",
    "print(my_dict.get('num'))"
   ]
  },
  {
   "cell_type": "code",
   "execution_count": 9,
   "id": "2c409a55",
   "metadata": {},
   "outputs": [
    {
     "name": "stdout",
     "output_type": "stream",
     "text": [
      "set1 {1, 2, 4}\n",
      "set2 {3, 4, 5}\n",
      "{1, 2, 3, 4, 5}\n",
      "{4}\n",
      "{1, 2}\n",
      "{1, 2, 3, 5}\n"
     ]
    }
   ],
   "source": [
    "#sets\n",
    "set1 = {1 ,2 ,3}\n",
    "set1.add(4)\n",
    "set1.remove(3)\n",
    "print(f\"set1 {set1}\")\n",
    "set2 = {3, 4, 5}\n",
    "print(f\"set2 {set2}\")\n",
    "\n",
    "print(set1 | set2) #union\n",
    "print(set1 & set2) #intersection\n",
    "print(set1 - set2) #difference\n",
    "print(set1 ^ set2) #symmetric different"
   ]
  },
  {
   "cell_type": "code",
   "execution_count": 20,
   "id": "eb037201",
   "metadata": {},
   "outputs": [
    {
     "name": "stdout",
     "output_type": "stream",
     "text": [
      "Returns the square of a number.\n"
     ]
    }
   ],
   "source": [
    "def square(n):\n",
    "    \"\"\"Returns the square of a number.\"\"\"\n",
    "    return n * n\n",
    "\n",
    "print(square.__doc__)\n"
   ]
  },
  {
   "cell_type": "code",
   "execution_count": 23,
   "id": "116631f3",
   "metadata": {},
   "outputs": [
    {
     "name": "stdout",
     "output_type": "stream",
     "text": [
      "25\n",
      "10\n"
     ]
    }
   ],
   "source": [
    "square = lambda x: x * x\n",
    "add = lambda x, y: x + y\n",
    "\n",
    "print(square(5))  # 25\n",
    "print(add(5, 5))"
   ]
  },
  {
   "cell_type": "code",
   "execution_count": 26,
   "id": "b24cc426",
   "metadata": {},
   "outputs": [
    {
     "name": "stdout",
     "output_type": "stream",
     "text": [
      "[0, 1, 4, 9, 16]\n",
      "{0: 0, 1: 1, 2: 4, 3: 9, 4: 16}\n",
      "{1, 4, 9}\n"
     ]
    }
   ],
   "source": [
    "# List comprehension\n",
    "squares = [x*x for x in range(5)]\n",
    "\n",
    "# Dictionary comprehension\n",
    "squared_dict = {x: x*x for x in range(5)}\n",
    "\n",
    "# Set comprehension\n",
    "unique_squares = {x*x for x in [1, 2, 2, 3]}\n",
    "\n",
    "print(squares)\n",
    "print(squared_dict)\n",
    "print(unique_squares)"
   ]
  },
  {
   "cell_type": "code",
   "execution_count": 29,
   "id": "535a6481",
   "metadata": {},
   "outputs": [
    {
     "name": "stdout",
     "output_type": "stream",
     "text": [
      "[1, 4, 9, 16, 25]\n",
      "[2, 4]\n"
     ]
    }
   ],
   "source": [
    "nums = [1, 2, 3, 4, 5]\n",
    "\n",
    "# map: apply function to each item\n",
    "squared = list(map(lambda x: x*x, nums))\n",
    "\n",
    "# filter: filter based on condition\n",
    "evens = list(filter(lambda x: x % 2 == 0, nums))\n",
    "print(squared)\n",
    "print(evens)"
   ]
  },
  {
   "cell_type": "code",
   "execution_count": 30,
   "id": "bdb431ac",
   "metadata": {},
   "outputs": [
    {
     "name": "stdout",
     "output_type": "stream",
     "text": [
      "Before function\n",
      "Hello!\n",
      "After function\n"
     ]
    }
   ],
   "source": [
    "def my_decorator(func):\n",
    "    def wrapper():\n",
    "        print(\"Before function\")\n",
    "        func()\n",
    "        print(\"After function\")\n",
    "    return wrapper\n",
    "\n",
    "@my_decorator\n",
    "def say_hello():\n",
    "    print(\"Hello!\")\n",
    "\n",
    "say_hello()\n"
   ]
  },
  {
   "cell_type": "code",
   "execution_count": 31,
   "id": "585cddb5",
   "metadata": {},
   "outputs": [
    {
     "name": "stdout",
     "output_type": "stream",
     "text": [
      "4.0\n",
      "5.0\n",
      "3.141592653589793\n"
     ]
    }
   ],
   "source": [
    "# Import entire module\n",
    "import math\n",
    "print(math.sqrt(16))\n",
    "\n",
    "# Import specific function\n",
    "from math import sqrt\n",
    "print(sqrt(25))\n",
    "\n",
    "# Alias\n",
    "import math as m\n",
    "print(m.pi)\n"
   ]
  },
  {
   "cell_type": "code",
   "execution_count": 32,
   "id": "5528dd90",
   "metadata": {},
   "outputs": [
    {
     "name": "stdout",
     "output_type": "stream",
     "text": [
      "Hi, I'm Alice and I'm 30.\n"
     ]
    }
   ],
   "source": [
    "class Person:\n",
    "    def __init__(self, name, age):  # Constructor\n",
    "        self.name = name            # Attribute\n",
    "        self.age = age\n",
    "\n",
    "    def greet(self):                # Instance method\n",
    "        print(f\"Hi, I'm {self.name} and I'm {self.age}.\")\n",
    "\n",
    "p = Person(\"Alice\", 30)\n",
    "p.greet()\n"
   ]
  },
  {
   "cell_type": "code",
   "execution_count": 36,
   "id": "e88b0383",
   "metadata": {},
   "outputs": [
    {
     "name": "stdout",
     "output_type": "stream",
     "text": [
      "[25, 225, 625, 1225]\n"
     ]
    }
   ],
   "source": [
    "nums = [5, 10, 15, 20, 25, 30, 35, 40]\n",
    "nums = list(filter(lambda x: x%10!=0, nums))\n",
    "nums = list(map(lambda x: x**2, nums))\n",
    "print(nums)"
   ]
  },
  {
   "cell_type": "code",
   "execution_count": 48,
   "id": "e686dd75",
   "metadata": {},
   "outputs": [
    {
     "name": "stdout",
     "output_type": "stream",
     "text": [
      "Title: , Author: , Pages: 0\n",
      "Title: balls, Author: Audrey, Pages: 67\n"
     ]
    }
   ],
   "source": [
    "class Book:\n",
    "    def __init__(self, title= \"\", author = \"\", pages = 0):\n",
    "        self.title = title\n",
    "        self.author = author\n",
    "        self.pages = pages\n",
    "    def get_summary(self):\n",
    "        print(f\"Title: {self.title}, Author: {self.author}, Pages: {self.pages}\")\n",
    "\n",
    "b = Book()\n",
    "x = Book(\"balls\", \"Audrey\", 67)\n",
    "\n",
    "b.get_summary()\n",
    "x.get_summary()"
   ]
  },
  {
   "cell_type": "code",
   "execution_count": 58,
   "id": "b5b54d85",
   "metadata": {},
   "outputs": [
    {
     "name": "stdout",
     "output_type": "stream",
     "text": [
      "Calling function: add\n",
      "Arguments: (5, 4), {}\n",
      "Result: 9\n"
     ]
    }
   ],
   "source": [
    "def debug(func):\n",
    "    def wrapper(*args, **kwargs):\n",
    "        print(f\"Calling function: {func.__name__}\")\n",
    "        print(f\"Arguments: {args}, {kwargs}\")\n",
    "        func(*args, **kwargs)\n",
    "    return wrapper\n",
    "@debug\n",
    "def add(x, y):\n",
    "    print(f\"Result: {x + y}\")\n",
    "\n",
    "add(5, 4)\n",
    "    "
   ]
  },
  {
   "cell_type": "code",
   "execution_count": 72,
   "id": "211b4e0d",
   "metadata": {},
   "outputs": [
    {
     "name": "stdout",
     "output_type": "stream",
     "text": [
      "Title: Dune, Author: Frank Herbert, Pages: 412, Genre: Sci-Fi\n",
      "Title: 1984, Author: George Orwell, Pages: 328, Genre: Dystopian\n",
      "Title: Clean Code, Author: Robert C. Martin, Pages: 464, Genre: Programming\n",
      "Dune: Recommended!\n",
      "The Hobbit: Optional\n",
      "1984: Optional\n",
      "Clean Code: Optional\n",
      "The Alchemist: Optional\n"
     ]
    }
   ],
   "source": [
    "class Book:\n",
    "    def __init__(self, title, author, pages, genre):\n",
    "        self.title = title\n",
    "        self.author = author\n",
    "        self.pages = pages\n",
    "        self.genre = genre\n",
    "\n",
    "    def is_long(self):\n",
    "        return self.pages > 300\n",
    "\n",
    "    def summary(self):\n",
    "        return f\"Title: {self.title}, Author: {self.author}, Pages: {self.pages}, Genre: {self.genre}\"\n",
    "\n",
    "    def recommended(self):\n",
    "        if (self.genre in [\"Sci-Fi\", \"Fantasy\"]) and self.pages > 300:\n",
    "            return \"Recommended!\"\n",
    "        return \"Optional\"\n",
    "\n",
    "# Book list\n",
    "books = [\n",
    "    Book(\"Dune\", \"Frank Herbert\", 412, \"Sci-Fi\"),\n",
    "    Book(\"The Hobbit\", \"J.R.R. Tolkien\", 295, \"Fantasy\"),\n",
    "    Book(\"1984\", \"George Orwell\", 328, \"Dystopian\"),\n",
    "    Book(\"Clean Code\", \"Robert C. Martin\", 464, \"Programming\"),\n",
    "    Book(\"The Alchemist\", \"Paulo Coelho\", 208, \"Fiction\")\n",
    "]\n",
    "\n",
    "# ✅ Filter long books\n",
    "long_books = list(filter(lambda book: book.is_long(), books))\n",
    "\n",
    "# ✅ Map summaries of long books\n",
    "summaries = list(map(lambda book: book.summary(), long_books))\n",
    "\n",
    "# ✅ Print summaries\n",
    "for summary in summaries:\n",
    "    print(summary)\n",
    "\n",
    "# ✅ Print recommendation for each book\n",
    "for book in books:\n",
    "    print(f\"{book.title}: {book.recommended()}\")\n",
    "\n"
   ]
  },
  {
   "cell_type": "code",
   "execution_count": 96,
   "id": "358cd5b7",
   "metadata": {},
   "outputs": [
    {
     "name": "stdout",
     "output_type": "stream",
     "text": [
      "Title: Inception, Director Christopher Nolan, Duration 148, Genre Action, Rating 8.8\n",
      "Title: The Godfather, Director Francis Ford Coppola, Duration 175, Genre Drama, Rating 9.2\n",
      "Inception: Must Watch!\n",
      "The Godfather: Must Watch!\n",
      "The Room: Watch Later\n",
      "Soul: Watch Later\n",
      "Tenet: Watch Later\n",
      "The Social Network: Must Watch!\n"
     ]
    }
   ],
   "source": [
    "class Movie:\n",
    "    def __init__(self, title, director, duration, genre, rating):\n",
    "        self.title = title\n",
    "        self.director = director\n",
    "        self.duration = duration\n",
    "        self.genre = genre\n",
    "        self.rating =rating\n",
    "    def is_blockbuster(self):\n",
    "        return self.rating > 8.0 and self.duration > 120\n",
    "    def info(self):\n",
    "        return f\"Title: {self.title}, Director {self.director}, Duration {self.duration}, Genre {self.genre}, Rating {self.rating}\"\n",
    "    def short_review(self):\n",
    "        if (self.genre in [\"Action\", \"Drama\"]) and self.rating > 7.5:\n",
    "            return \"Must Watch!\"\n",
    "        else:\n",
    "            return \"Watch Later\"\n",
    "    def debug(self, func):\n",
    "        def wrapper(*args, **kwargs):\n",
    "            print(f\"Calling: {func.name}\")\n",
    "            print(f\"Arguments: {args, kwargs}\")\n",
    "            func(*args, **kwargs)\n",
    "        return wrapper\n",
    "movies = [\n",
    "    Movie(\"Inception\", \"Christopher Nolan\", 148, \"Action\", 8.8),\n",
    "    Movie(\"The Godfather\", \"Francis Ford Coppola\", 175, \"Drama\", 9.2),\n",
    "    Movie(\"The Room\", \"Tommy Wiseau\", 99, \"Drama\", 3.7),\n",
    "    Movie(\"Soul\", \"Pete Docter\", 100, \"Animation\", 8.1),\n",
    "    Movie(\"Tenet\", \"Christopher Nolan\", 150, \"Action\", 7.4),\n",
    "    Movie(\"The Social Network\", \"David Fincher\", 120, \"Drama\", 7.7)\n",
    "]\n",
    "\n",
    "blockbusters = list(filter(lambda bb: bb.is_blockbuster(), movies))\n",
    "infos = list(map(lambda x: x.info(), blockbusters))\n",
    "\n",
    "for movie in infos:\n",
    "    print(f\"{movie}\")\n",
    "for movie in movies:\n",
    "    print(f\"{movie.title}: {movie.short_review()}\")\n"
   ]
  }
 ],
 "metadata": {
  "kernelspec": {
   "display_name": "Python 3 (ipykernel)",
   "language": "python",
   "name": "python3"
  }
 },
 "nbformat": 4,
 "nbformat_minor": 5
}
