{
 "cells": [
  {
   "cell_type": "code",
   "execution_count": 2,
   "id": "7394b019",
   "metadata": {},
   "outputs": [
    {
     "name": "stdout",
     "output_type": "stream",
     "text": [
      "Woof\n"
     ]
    }
   ],
   "source": [
    "#create a dog class\n",
    "class Dog:\n",
    "    def bark(self): #instance method\n",
    "        return \"Woof\"\n",
    "#create an object of dog class\n",
    "my_dog = Dog()\n",
    "print(my_dog.bark())"
   ]
  },
  {
   "cell_type": "code",
   "execution_count": 3,
   "id": "7c767bd2",
   "metadata": {},
   "outputs": [
    {
     "name": "stdout",
     "output_type": "stream",
     "text": [
      "81\n"
     ]
    }
   ],
   "source": [
    "class Square:\n",
    "    side = 9\n",
    "    #create an instance method area\n",
    "    def area(self):\n",
    "        return self.side ** 2\n",
    "#create an object of Square\n",
    "s1 = Square()\n",
    "#print the area\n",
    "print(s1.area())"
   ]
  },
  {
   "cell_type": "code",
   "execution_count": 4,
   "id": "5b8754d1",
   "metadata": {},
   "outputs": [
    {
     "name": "stdout",
     "output_type": "stream",
     "text": [
      "dumbass\n"
     ]
    }
   ],
   "source": [
    "# __init__ special method which is called when an object is created\n",
    "class Cat:\n",
    "    def __init__(self, name):\n",
    "        self.name = name\n",
    "\n",
    "cat = Cat(\"dumbass\")\n",
    "\n",
    "print(cat.name)"
   ]
  }
 ],
 "metadata": {
  "kernelspec": {
   "display_name": "Python 3 (ipykernel)",
   "language": "python",
   "name": "python3"
  }
 },
 "nbformat": 4,
 "nbformat_minor": 5
}
