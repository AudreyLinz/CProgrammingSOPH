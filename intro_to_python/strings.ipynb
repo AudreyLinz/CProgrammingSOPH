{
 "cells": [
  {
   "cell_type": "code",
   "execution_count": null,
   "id": "fdd9ae8b",
   "metadata": {},
   "outputs": [
    {
     "name": "stdout",
     "output_type": "stream",
     "text": [
      "yth\n",
      "Pytho\n",
      "thon\n"
     ]
    }
   ],
   "source": [
    "#strings and slicing\n",
    "language = \"Python\"\n",
    "print(language [1:4])\n",
    "print(language [:5])\n",
    "print(language [2:])\n"
   ]
  },
  {
   "cell_type": "code",
   "execution_count": 14,
   "id": "c603eb61",
   "metadata": {},
   "outputs": [
    {
     "name": "stdout",
     "output_type": "stream",
     "text": [
      "['toyota', ' honda', ' audi']\n",
      "Toyota\n",
      "Honda\n",
      "AUDI\n"
     ]
    }
   ],
   "source": [
    "#split the string\n",
    "\n",
    "makes= \"toyota, honda, audi\"\n",
    "car_makes = makes.split(\",\") #car_makes is a list of strings\n",
    "print(car_makes)\n",
    "\n",
    "#iterate through the list\n",
    "for make in car_makes:\n",
    "    make = make.lstrip()\n",
    "    if make == \"audi\":\n",
    "        print(make.upper())\n",
    "    else:\n",
    "        print(make.title())"
   ]
  },
  {
   "cell_type": "code",
   "execution_count": 1,
   "id": "f577fa8e",
   "metadata": {},
   "outputs": [
    {
     "ename": "NameError",
     "evalue": "name 'rang' is not defined",
     "output_type": "error",
     "traceback": [
      "\u001b[31m---------------------------------------------------------------------------\u001b[39m",
      "\u001b[31mNameError\u001b[39m                                 Traceback (most recent call last)",
      "\u001b[36mCell\u001b[39m\u001b[36m \u001b[39m\u001b[32mIn[1]\u001b[39m\u001b[32m, line 1\u001b[39m\n\u001b[32m----> \u001b[39m\u001b[32m1\u001b[39m \u001b[38;5;28;01mfor\u001b[39;00m i \u001b[38;5;129;01min\u001b[39;00m \u001b[43mrang\u001b[49m[\u001b[32m1\u001b[39m, \u001b[32m100\u001b[39m, \u001b[32m5\u001b[39m]:\n\u001b[32m      2\u001b[39m     \u001b[38;5;28mprint\u001b[39m(i)\n",
      "\u001b[31mNameError\u001b[39m: name 'rang' is not defined"
     ]
    }
   ],
   "source": [
    "for i in rang[1, 100, 5]:\n",
    "    print(i)"
   ]
  }
 ],
 "metadata": {
  "kernelspec": {
   "display_name": "Python 3 (ipykernel)",
   "language": "python",
   "name": "python3"
  }
 },
 "nbformat": 4,
 "nbformat_minor": 5
}
