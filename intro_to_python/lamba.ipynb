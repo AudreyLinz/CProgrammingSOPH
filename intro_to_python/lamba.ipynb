{
 "cells": [
  {
   "cell_type": "markdown",
   "id": "cfe1a20d",
   "metadata": {},
   "source": []
  },
  {
   "cell_type": "code",
   "execution_count": 5,
   "id": "08bfc667",
   "metadata": {},
   "outputs": [
    {
     "name": "stdout",
     "output_type": "stream",
     "text": [
      "3L2LZ\n"
     ]
    }
   ],
   "source": [
    "input = \"jdj3jfoL2lsjLZq\"\n",
    "test = lambda x: x if x == x.upper() else \"\"\n",
    "out = \"\"\n",
    "\n",
    "for i in input:\n",
    "    out += test(i)\n",
    "print(out)"
   ]
  },
  {
   "cell_type": "code",
   "execution_count": 3,
   "id": "6c86a9d9",
   "metadata": {},
   "outputs": [
    {
     "name": "stdout",
     "output_type": "stream",
     "text": [
      "Inputs: 10, 5\n",
      "Addition: 15\n",
      "Division: 2.0\n",
      "Inputs: 8, 0\n",
      "Addition: 8\n",
      "Division: Error: Division by zero!\n",
      "Inputs: 14, 6\n",
      "Addition: 20\n",
      "Division: 2.3333333333333335\n",
      "Help on function <lambda> in module __main__:\n",
      "\n",
      "<lambda> lambda x, y\n",
      "    #Create a lambda function\n",
      "\n"
     ]
    }
   ],
   "source": [
    "#Create a lambda function\n",
    "add = lambda x, y: x+y\n",
    "#Implement sbtraction, multiplication and division\n",
    "#Check the division by zero\n",
    "divide = lambda x, y: x/y if y!=0 else \"Error: Division by zero!\"\n",
    "\n",
    "\n",
    "#Test the function\n",
    "#Create a list if tuples\n",
    "inputs = [[10, 5], [8,0], [14, 6]]\n",
    "for x, y in inputs:\n",
    "    print(f\"Inputs: {x}, {y}\")\n",
    "    print(f\"Addition: {add(x, y)}\")\n",
    "    print(f\"Division: {divide(x, y)}\")\n",
    "help(add)"
   ]
  }
 ],
 "metadata": {
  "kernelspec": {
   "display_name": "Python 3 (ipykernel)",
   "language": "python",
   "name": "python3"
  },
  "language_info": {
   "codemirror_mode": {
    "name": "ipython",
    "version": 3
   },
   "file_extension": ".py",
   "mimetype": "text/x-python",
   "name": "python",
   "nbconvert_exporter": "python",
   "pygments_lexer": "ipython3",
   "version": "3.12.1"
  }
 },
 "nbformat": 4,
 "nbformat_minor": 5
}
