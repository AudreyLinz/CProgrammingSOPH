{
 "cells": [
  {
   "cell_type": "code",
   "execution_count": 11,
   "id": "41ebc41c",
   "metadata": {},
   "outputs": [
    {
     "name": "stdout",
     "output_type": "stream",
     "text": [
      "Status: Temp 25 Degree \n",
      "Alert: System is online \n",
      "a-b\n"
     ]
    }
   ],
   "source": [
    "# function thst creates a mesg\n",
    "def create_msg(prefix, *args):\n",
    "    s = str(prefix) + \": \"\n",
    "    for arg in args:\n",
    "        s += str(arg) + \" \"\n",
    "    print(s)\n",
    "\n",
    "def create_mes(*args, **kwargs):\n",
    "    #find the key in kwargs\n",
    "    seperator = kwargs.get(\"seperator\", \" \")\n",
    "    s = \"\"\n",
    "    for arg in args:\n",
    "        s += str(arg) + seperator        \n",
    "    return s[:-1]\n",
    "\n",
    "#call function\n",
    "create_msg(\"Status\", \"Temp\", 25, \"Degree\")\n",
    "create_msg(\"Alert\", \"System\", \"is\", \"online\")\n",
    "\n",
    "print(create_mes(\"a\", \"b\", seperator = \"-\"))\n"
   ]
  }
 ],
 "metadata": {
  "kernelspec": {
   "display_name": "Python 3 (ipykernel)",
   "language": "python",
   "name": "python3"
  }
 },
 "nbformat": 4,
 "nbformat_minor": 5
}
