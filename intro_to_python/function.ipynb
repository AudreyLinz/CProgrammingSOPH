{
 "cells": [
  {
   "cell_type": "code",
   "execution_count": 7,
   "id": "41ebc41c",
   "metadata": {},
   "outputs": [
    {
     "name": "stdout",
     "output_type": "stream",
     "text": [
      " Temp 25 Degree \n"
     ]
    }
   ],
   "source": [
    "# function thst creates a mesg\n",
    "def create_msg(prefix, *args):\n",
    "    s = \" \"\n",
    "    for arg in args:\n",
    "        s += str(arg) + \" \"\n",
    "    print(s)\n",
    "\n",
    "#call function\n",
    "create_msg(\"Status\", \"Temp\", 25, \"Degree\")\n"
   ]
  }
 ],
 "metadata": {
  "kernelspec": {
   "display_name": "Python 3 (ipykernel)",
   "language": "python",
   "name": "python3"
  },
  "language_info": {
   "codemirror_mode": {
    "name": "ipython",
    "version": 3
   },
   "file_extension": ".py",
   "mimetype": "text/x-python",
   "name": "python",
   "nbconvert_exporter": "python",
   "pygments_lexer": "ipython3",
   "version": "3.12.1"
  }
 },
 "nbformat": 4,
 "nbformat_minor": 5
}
