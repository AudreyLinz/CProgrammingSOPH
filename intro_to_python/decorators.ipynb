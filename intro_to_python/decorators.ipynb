{
 "cells": [
  {
   "cell_type": "code",
   "execution_count": null,
   "id": "37791355",
   "metadata": {},
   "outputs": [
    {
     "name": "stdout",
     "output_type": "stream",
     "text": [
      "f took: 0.3003075122833252\n"
     ]
    }
   ],
   "source": [
    "#measure the execution time of a funstion\n",
    "#import time functions (specific import)\n",
    "from time import sleep, time\n",
    "def f():\n",
    "    sleep(0.3) # stops the execution on the given number of secs\n",
    "\n",
    "t = time() #returns the number of seconds from 1/1/1970\n",
    "f()\n",
    "print(\"f took:\", time()-t)"
   ]
  },
  {
   "cell_type": "code",
   "execution_count": 3,
   "id": "bf00b481",
   "metadata": {},
   "outputs": [],
   "source": [
    "#lets create a functon that tales another function\n",
    "def measure(func):\n",
    "    t = time() #starting time\n",
    "    func() #function call\n",
    "    print(func.__name__, \"took:\", time()-t)\n",
    "    measure(f)\n",
    "    measure(g)"
   ]
  },
  {
   "cell_type": "code",
   "execution_count": 5,
   "id": "b732d5ee",
   "metadata": {},
   "outputs": [
    {
     "ename": "NameError",
     "evalue": "name 'argrs' is not defined",
     "output_type": "error",
     "traceback": [
      "\u001b[31m---------------------------------------------------------------------------\u001b[39m",
      "\u001b[31mNameError\u001b[39m                                 Traceback (most recent call last)",
      "\u001b[36mCell\u001b[39m\u001b[36m \u001b[39m\u001b[32mIn[5]\u001b[39m\u001b[32m, line 8\u001b[39m\n\u001b[32m      5\u001b[39m     func(*argrs, **kwargs)\n\u001b[32m      6\u001b[39m     \u001b[38;5;28mprint\u001b[39m(func.\u001b[34m__name__\u001b[39m, \u001b[33m\"\u001b[39m\u001b[33mtook:\u001b[39m\u001b[33m\"\u001b[39m, time()-\u001b[32m1\u001b[39m)\n\u001b[32m----> \u001b[39m\u001b[32m8\u001b[39m \u001b[43mmeasure\u001b[49m\u001b[43m(\u001b[49m\u001b[43mf2\u001b[49m\u001b[43m)\u001b[49m\n\u001b[32m      9\u001b[39m measure(f2, \u001b[32m0.9\u001b[39m)\n\u001b[32m     10\u001b[39m measure(f2, sleep_time = \u001b[32m1\u001b[39m)\n",
      "\u001b[36mCell\u001b[39m\u001b[36m \u001b[39m\u001b[32mIn[5]\u001b[39m\u001b[32m, line 5\u001b[39m, in \u001b[36mmeasure\u001b[39m\u001b[34m(func, *args, **kwargs)\u001b[39m\n\u001b[32m      3\u001b[39m \u001b[38;5;28;01mdef\u001b[39;00m\u001b[38;5;250m \u001b[39m\u001b[34mmeasure\u001b[39m(func, *args, **kwargs):\n\u001b[32m      4\u001b[39m     t=time()\n\u001b[32m----> \u001b[39m\u001b[32m5\u001b[39m     func(*\u001b[43margrs\u001b[49m, **kwargs)\n\u001b[32m      6\u001b[39m     \u001b[38;5;28mprint\u001b[39m(func.\u001b[34m__name__\u001b[39m, \u001b[33m\"\u001b[39m\u001b[33mtook:\u001b[39m\u001b[33m\"\u001b[39m, time()-\u001b[32m1\u001b[39m)\n",
      "\u001b[31mNameError\u001b[39m: name 'argrs' is not defined"
     ]
    }
   ],
   "source": [
    "def f2(sleep_time = 0.1):\n",
    "    sleep(sleep_time) #stops execution on the given number of sec\n",
    "def measure(func, *args, **kwargs):\n",
    "    t=time()\n",
    "    func(*argrs, **kwargs)\n",
    "    print(func.__name__, \"took:\", time()-1)\n",
    "\n",
    "measure(f2)\n",
    "measure(f2, 0.9)\n",
    "measure(f2, sleep_time = 1)"
   ]
  },
  {
   "cell_type": "code",
   "execution_count": null,
   "id": "b454b425",
   "metadata": {},
   "outputs": [
    {
     "ename": "SyntaxError",
     "evalue": "invalid syntax (2715324786.py, line 1)",
     "output_type": "error",
     "traceback": [
      "  \u001b[36mCell\u001b[39m\u001b[36m \u001b[39m\u001b[32mIn[6]\u001b[39m\u001b[32m, line 1\u001b[39m\n\u001b[31m    \u001b[39m\u001b[31mef f2(sleep_time = 0.1):\u001b[39m\n       ^\n\u001b[31mSyntaxError\u001b[39m\u001b[31m:\u001b[39m invalid syntax\n"
     ]
    }
   ],
   "source": [
    "ef f2(sleep_time = 0.1):\n",
    "    sleep(sleep_time) #stops execution on the given number of sec\n",
    "def measure(func, *args, **kwargs):\n",
    "    def wrapper(*args, **kwargs):\n",
    "        t=time()\n",
    "        func(*args, **kwargs)\n",
    "        print(func.__name__, \"took:\", time()-1)\n",
    "    return wrapper\n",
    "\n",
    "measure(f2)\n",
    "measure(f2, 0.9)\n",
    "measure(f2, sleep_time = 1)"
   ]
  },
  {
   "cell_type": "code",
   "execution_count": null,
   "id": "476182ed",
   "metadata": {},
   "outputs": [],
   "source": []
  }
 ],
 "metadata": {
  "kernelspec": {
   "display_name": "Python 3 (ipykernel)",
   "language": "python",
   "name": "python3"
  }
 },
 "nbformat": 4,
 "nbformat_minor": 5
}
