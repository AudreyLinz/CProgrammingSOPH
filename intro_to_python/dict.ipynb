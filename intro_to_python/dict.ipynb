{
 "cells": [
  {
   "cell_type": "code",
   "execution_count": 1,
   "id": "33789bbe",
   "metadata": {},
   "outputs": [
    {
     "ename": "NameError",
     "evalue": "name 'my_dict' is not defined",
     "output_type": "error",
     "traceback": [
      "\u001b[31m---------------------------------------------------------------------------\u001b[39m",
      "\u001b[31mNameError\u001b[39m                                 Traceback (most recent call last)",
      "\u001b[36mCell\u001b[39m\u001b[36m \u001b[39m\u001b[32mIn[1]\u001b[39m\u001b[32m, line 1\u001b[39m\n\u001b[32m----> \u001b[39m\u001b[32m1\u001b[39m \u001b[38;5;28mprint\u001b[39m(\u001b[43mmy_dict\u001b[49m[\u001b[33m\"\u001b[39m\u001b[33mhome\u001b[39m\u001b[33m\"\u001b[39m])\n\u001b[32m      3\u001b[39m my_dict.get(\u001b[33m\"\u001b[39m\u001b[33mhome\u001b[39m\u001b[33m\"\u001b[39m, \u001b[33m\"\u001b[39m\u001b[33mnot found\u001b[39m\u001b[33m\"\u001b[39m) \u001b[38;5;66;03m#returns not found if key doesnt exist\u001b[39;00m\n",
      "\u001b[31mNameError\u001b[39m: name 'my_dict' is not defined"
     ]
    }
   ],
   "source": [
    "print(my_dict[\"home\"])\n",
    "\n",
    "my_dict.get(\"home\", \"not found\") #returns not found if key doesnt exist"
   ]
  },
  {
   "cell_type": "code",
   "execution_count": null,
   "id": "449ed79f",
   "metadata": {},
   "outputs": [
    {
     "name": "stdout",
     "output_type": "stream",
     "text": [
      "dict_keys(['name', 'age', 'city'])\n"
     ]
    }
   ],
   "source": [
    "#keys - returns all the keys\n",
    "my_dict = {\"name\": \"butt\", \"age\": 25, \"city\": \"Lakeland\"}\n",
    "print(my_dict.keys())\n",
    "\n"
   ]
  },
  {
   "cell_type": "code",
   "execution_count": 12,
   "id": "e0753eec",
   "metadata": {},
   "outputs": [
    {
     "name": "stdout",
     "output_type": "stream",
     "text": [
      "{'banana': 3, 'apple': 1, 'orange': 2}\n"
     ]
    }
   ],
   "source": [
    "# pratice\n",
    "#count the frequency of each word\n",
    "msg = \"banana apple orange orange banana banana\"\n",
    "words = msg.split(\" \")\n",
    "#create an empty dict\n",
    "wordCount = {}\n",
    "for word in words:\n",
    "    wordCount[word] = wordCount.get(word, 0) + 1\n",
    "\n",
    "print(wordCount)"
   ]
  },
  {
   "cell_type": "code",
   "execution_count": 16,
   "id": "77734ccf",
   "metadata": {},
   "outputs": [
    {
     "name": "stdout",
     "output_type": "stream",
     "text": [
      "{'blue', 'green', 'red'}\n",
      "{1, 2, 3, 4}\n",
      "set()\n"
     ]
    }
   ],
   "source": [
    "# Create a set - collection of unique values\n",
    "\n",
    "colors = {\"blue\", \"red\", \"green\"}\n",
    "l = [1,2,3,4,3]\n",
    "\n",
    "my_set = set(l)\n",
    "\n",
    "#empty set\n",
    "empty_set = set()\n",
    "\n",
    "print(colors)\n",
    "print(my_set)\n",
    "print(empty_set)"
   ]
  },
  {
   "cell_type": "code",
   "execution_count": 21,
   "id": "14a0370d",
   "metadata": {},
   "outputs": [
    {
     "name": "stdout",
     "output_type": "stream",
     "text": [
      "{1, 2, 3, 4, 5, 6, 7, 8}\n",
      "{4, 5}\n",
      "{1, 2, 3}\n",
      "{8, 6, 7}\n",
      "{1, 2, 3, 6, 7, 8}\n"
     ]
    }
   ],
   "source": [
    "set1 = {1, 2, 3, 4, 5}\n",
    "set2 = {4, 5, 6, 7, 8}\n",
    "\n",
    "#combine elements of two sets\n",
    "print(set1 | set2)\n",
    "\n",
    "#intersection of two sets\n",
    "print(set1 & set2)\n",
    "\n",
    "#difference of two sets\n",
    "print(set1 - set2)\n",
    "print(set2 - set1)\n",
    "\n",
    "#symmetric diff\n",
    "print(set1 ^ set2)"
   ]
  },
  {
   "cell_type": "code",
   "execution_count": 22,
   "id": "6ffcf6f9",
   "metadata": {},
   "outputs": [
    {
     "name": "stdout",
     "output_type": "stream",
     "text": [
      "{'purple', 'green', 'red'}\n"
     ]
    }
   ],
   "source": [
    "#add and rempve elements to the set\n",
    "colors = {\"blue\", \"red\", \"green\"}\n",
    "colors.add(\"purple\")\n",
    "colors.remove(\"blue\") #generates an error if the vslue odesn't exist\n",
    "colors.discard(\"blue\") #no error if not found\n",
    "\n",
    "print(colors)"
   ]
  }
 ],
 "metadata": {
  "kernelspec": {
   "display_name": "Python 3 (ipykernel)",
   "language": "python",
   "name": "python3"
  },
  "language_info": {
   "codemirror_mode": {
    "name": "ipython",
    "version": 3
   },
   "file_extension": ".py",
   "mimetype": "text/x-python",
   "name": "python",
   "nbconvert_exporter": "python",
   "pygments_lexer": "ipython3",
   "version": "3.12.1"
  }
 },
 "nbformat": 4,
 "nbformat_minor": 5
}
