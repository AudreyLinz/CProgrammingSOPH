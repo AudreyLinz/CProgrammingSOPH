{
 "cells": [
  {
   "cell_type": "code",
   "execution_count": null,
   "id": "bb7b21bc",
   "metadata": {},
   "outputs": [
    {
     "name": "stdout",
     "output_type": "stream",
     "text": [
      "test.py\n",
      "/workspaces/CProgrammingSOPH/intro_to_python/files/files.ipynb/test.py\n",
      "/workspaces/CProgrammingSOPH/intro_to_python/files/files.ipynb\n",
      "/workspaces/CProgrammingSOPH/intro_to_python/files\n",
      ".py\n",
      "Exists: False\n",
      "is file: False\n",
      "Is dir: False\n",
      "/workspaces/CProgrammingSOPH/intro_to_python/files/files.ipynb/dir1\n"
     ]
    },
    {
     "ename": "NameError",
     "evalue": "name 'output_file' is not defined",
     "output_type": "error",
     "traceback": [
      "\u001b[31m---------------------------------------------------------------------------\u001b[39m",
      "\u001b[31mNameError\u001b[39m                                 Traceback (most recent call last)",
      "\u001b[36mCell\u001b[39m\u001b[36m \u001b[39m\u001b[32mIn[14]\u001b[39m\u001b[32m, line 39\u001b[39m\n\u001b[32m     37\u001b[39m \u001b[38;5;66;03m#create a list of files in the current directory\u001b[39;00m\n\u001b[32m     38\u001b[39m \u001b[38;5;28;01mfor\u001b[39;00m file \u001b[38;5;129;01min\u001b[39;00m p.parent.iterdir():\n\u001b[32m---> \u001b[39m\u001b[32m39\u001b[39m     \u001b[38;5;28;01mif\u001b[39;00m file.is_file() \u001b[38;5;129;01mand\u001b[39;00m file.name != \u001b[43moutput_file\u001b[49m:\n\u001b[32m     40\u001b[39m         \u001b[38;5;28;01mwith\u001b[39;00m \u001b[38;5;28mopen\u001b[39m(output_file, \u001b[33m\"\u001b[39m\u001b[33ma\u001b[39m\u001b[33m\"\u001b[39m) \u001b[38;5;28;01mas\u001b[39;00m fl:  \u001b[38;5;66;03m# Append mode\u001b[39;00m\n\u001b[32m     41\u001b[39m             fl.write(file.name + \u001b[33m\"\u001b[39m\u001b[38;5;130;01m\\n\u001b[39;00m\u001b[33m\"\u001b[39m)\n",
      "\u001b[31mNameError\u001b[39m: name 'output_file' is not defined"
     ]
    }
   ],
   "source": [
    "#create text files in the current directory\n",
    "#1. txt 2.txt 3.txt 4.txt 5.txt\n",
    "from pathlib import Path\n",
    "for i in range(1, 6):\n",
    "    with open(f\"{i}.txt\", \"w\") as file:\n",
    "        file.write(f\"Writing into {file.name} file\")\n",
    "\n",
    "#working with file paths\n",
    "p = Path(\"test.py\")\n",
    "\n",
    "#Path attributes and methods\n",
    "print(p.name) # file name\n",
    "print(p.absolute()) # absolute path\n",
    "print(p.absolute().parent) # parent of the file\n",
    "print(p.absolute().parent.parent) # grandparent parent of the file\n",
    "print(p.suffix) #file extension\n",
    "\n",
    "#methods\n",
    "print(f\"Exists: {p.exists()}\")\n",
    "print(f\"is file: {p.is_file()}\")\n",
    "print(f\"Is dir: {p.is_dir()}\")\n",
    "\n",
    "#create a directory\n",
    "dir_name = \"dir1\"\n",
    "new_path = Path(p.absolute().parent / dir_name)\n",
    "new_path2 = Path(p.absolute().parent / \"dir2\")\n",
    "new_path3 = Path(p.absolute().parent / \"dir3\")\n",
    "print(new_path.absolute())\n",
    "\n",
    "if not new_path.exists():\n",
    "    new_path.mkdir()\n",
    "if not new_path2.exists():\n",
    "    new_path2.mkdir()\n",
    "if not new_path3.exists():\n",
    "    new_path3.mkdir()\n",
    "\n",
    "#create a list of files in the current directory\n",
    "for file in p.parent.iterdir():\n",
    "    if file.is_file():\n",
    "        with open(\"file_names.txt\") as fl:\n",
    "                fl.write(file.name + \"\\n\")\n",
    "        print(file.name)\n",
    "\n"
   ]
  }
 ],
 "metadata": {
  "kernelspec": {
   "display_name": "Python 3 (ipykernel)",
   "language": "python",
   "name": "python3"
  }
 },
 "nbformat": 4,
 "nbformat_minor": 5
}
