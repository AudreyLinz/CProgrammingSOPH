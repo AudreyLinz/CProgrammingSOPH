{
 "cells": [
  {
   "cell_type": "code",
   "execution_count": 4,
   "id": "aaf465e7",
   "metadata": {},
   "outputs": [
    {
     "name": "stdout",
     "output_type": "stream",
     "text": [
      "dffd6021bb2bd5b0af676290809ec3a53191dd81c7f70a4b28688a362182986f\n",
      "Hello, World! b'Hello, World!'\n"
     ]
    }
   ],
   "source": [
    "import hashlib\n",
    "\n",
    "msg = \"Hello, World!\"\n",
    "b_msg = msg.encode()\n",
    "\n",
    "hash_value = hashlib.sha256(b_msg)\n",
    "print(hash_value.hexdigest())\n",
    "\n",
    "print(msg, b_msg)"
   ]
  },
  {
   "cell_type": "code",
   "execution_count": 7,
   "id": "b68d590e",
   "metadata": {},
   "outputs": [
    {
     "name": "stdout",
     "output_type": "stream",
     "text": [
      "dffd6021bb2bd5b0af676290809ec3a53191dd81c7f70a4b28688a362182986f\n",
      "f16c3bb0532537acd5b2e418f2b1235b29181e35cffee7cc29d84de4a1d62e4d\n"
     ]
    }
   ],
   "source": [
    "import hashlib\n",
    "\n",
    "msg = \"Hello, World!\"\n",
    "b_msg = msg.encode()\n",
    "\n",
    "hash_value = hashlib.sha256(b_msg)\n",
    "print(hash_value.hexdigest())\n",
    "\n",
    "msg = \"Hello, World?\"\n",
    "b_msg = msg.encode()\n",
    "\n",
    "hash_value = hashlib.sha256(b_msg)\n",
    "print(hash_value.hexdigest())"
   ]
  },
  {
   "cell_type": "code",
   "execution_count": null,
   "id": "6bf22e74",
   "metadata": {},
   "outputs": [
    {
     "name": "stdout",
     "output_type": "stream",
     "text": [
      "8b79510b2fe56c22d9865b2ac7ee836b83efd2494edd9dd1002e6ffe872d6877\n",
      "c95d72291549e87d3f30cc1e061aa58b59c0660c8b79e6c20a0904734483884a\n"
     ]
    }
   ],
   "source": [
    "import hashlib\n",
    "\n",
    "#create a file \n",
    "with open(\"test.txt\", \"w\") as file:\n",
    "    file.write(\"Very secrat data!\")\n",
    "\n",
    "def file_sha256(path):\n",
    "    #Read a file as binary\n",
    "    with open(path, \"rb\") as file:\n",
    "        file_content = file.read()\n",
    "    hash_value = hashlib.sha256(file_content)\n",
    "    return hash_value.hexdigest()\n",
    "\n",
    "file_hash = file_sha256(\"test.txt\")\n",
    "print(file_hash)\n",
    "\n",
    "with open(\"test.txt\", \"a\") as file:\n",
    "    file.write(\"Indeed\")\n",
    "\n",
    "new_hash = file_sha256(\"test.txt\")\n",
    "print(new_hash)\n",
    "\n",
    "#generate a hash file\n"
   ]
  }
 ],
 "metadata": {
  "kernelspec": {
   "display_name": "Python 3 (ipykernel)",
   "language": "python",
   "name": "python3"
  },
  "language_info": {
   "codemirror_mode": {
    "name": "ipython",
    "version": 3
   },
   "file_extension": ".py",
   "mimetype": "text/x-python",
   "name": "python",
   "nbconvert_exporter": "python",
   "pygments_lexer": "ipython3",
   "version": "3.12.1"
  }
 },
 "nbformat": 4,
 "nbformat_minor": 5
}
