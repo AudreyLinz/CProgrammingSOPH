{
 "cells": [
  {
   "cell_type": "code",
   "execution_count": null,
   "id": "fb1bf5a0",
   "metadata": {},
   "outputs": [
    {
     "name": "stdout",
     "output_type": "stream",
     "text": [
      "comments\n"
     ]
    }
   ],
   "source": [
    "print(\"comments\")\n",
    "\n",
    "\"\"\"\n",
    "8/20/25\n",
    "intro to python\n",
    "\"\"\"\n",
    "# this is single line comment"
   ]
  },
  {
   "cell_type": "code",
   "execution_count": 2,
   "id": "7cc291df",
   "metadata": {},
   "outputs": [
    {
     "name": "stdout",
     "output_type": "stream",
     "text": [
      "True\n",
      "True\n",
      "False\n",
      "True\n",
      "False\n",
      "True\n"
     ]
    }
   ],
   "source": [
    "print(bool(True))\n",
    "print(bool(1))\n",
    "print(bool(0))\n",
    "\n",
    "# logical operators\n",
    "#not and or\n",
    "print(bool(True or 0))\n",
    "print(bool(True and 0))\n",
    "print(bool(not 0))"
   ]
  },
  {
   "cell_type": "code",
   "execution_count": 3,
   "id": "07398302",
   "metadata": {},
   "outputs": [
    {
     "name": "stdout",
     "output_type": "stream",
     "text": [
      "0.30000000000000004\n"
     ]
    }
   ],
   "source": [
    "#floats\n",
    "n = .1\n",
    "print(n+n+n)"
   ]
  },
  {
   "cell_type": "code",
   "execution_count": 5,
   "id": "a5fbdba2",
   "metadata": {},
   "outputs": [
    {
     "name": "stdout",
     "output_type": "stream",
     "text": [
      "0.3\n"
     ]
    }
   ],
   "source": [
    "#decimal\n",
    "from decimal import Decimal\n",
    "d = Decimal(\".1\") + Decimal(\".1\") + Decimal(\".1\")\n",
    "print(d)"
   ]
  },
  {
   "cell_type": "code",
   "execution_count": null,
   "id": "40f516bd",
   "metadata": {},
   "outputs": [
    {
     "name": "stdout",
     "output_type": "stream",
     "text": [
      "John Doe\n",
      "JOHN DOE\n",
      "john doe\n"
     ]
    }
   ],
   "source": [
    "name = \"john doe\"\n",
    "print(name.title()) #uppercases the first letters of words\n",
    "print(name.upper()) #ALL CAPS\n",
    "print(name.lower()) #All lower case"
   ]
  },
  {
   "cell_type": "code",
   "execution_count": 3,
   "id": "23af938a",
   "metadata": {},
   "outputs": [
    {
     "name": "stdout",
     "output_type": "stream",
     "text": [
      "['__add__', '__class__', '__contains__', '__delattr__', '__dir__', '__doc__', '__eq__', '__format__', '__ge__', '__getattribute__', '__getitem__', '__getnewargs__', '__getstate__', '__gt__', '__hash__', '__init__', '__init_subclass__', '__iter__', '__le__', '__len__', '__lt__', '__mod__', '__mul__', '__ne__', '__new__', '__reduce__', '__reduce_ex__', '__repr__', '__rmod__', '__rmul__', '__setattr__', '__sizeof__', '__str__', '__subclasshook__', 'capitalize', 'casefold', 'center', 'count', 'encode', 'endswith', 'expandtabs', 'find', 'format', 'format_map', 'index', 'isalnum', 'isalpha', 'isascii', 'isdecimal', 'isdigit', 'isidentifier', 'islower', 'isnumeric', 'isprintable', 'isspace', 'istitle', 'isupper', 'join', 'ljust', 'lower', 'lstrip', 'maketrans', 'partition', 'removeprefix', 'removesuffix', 'replace', 'rfind', 'rindex', 'rjust', 'rpartition', 'rsplit', 'rstrip', 'split', 'splitlines', 'startswith', 'strip', 'swapcase', 'title', 'translate', 'upper', 'zfill']\n",
      "['__abs__', '__add__', '__and__', '__bool__', '__ceil__', '__class__', '__delattr__', '__dir__', '__divmod__', '__doc__', '__eq__', '__float__', '__floor__', '__floordiv__', '__format__', '__ge__', '__getattribute__', '__getnewargs__', '__getstate__', '__gt__', '__hash__', '__index__', '__init__', '__init_subclass__', '__int__', '__invert__', '__le__', '__lshift__', '__lt__', '__mod__', '__mul__', '__ne__', '__neg__', '__new__', '__or__', '__pos__', '__pow__', '__radd__', '__rand__', '__rdivmod__', '__reduce__', '__reduce_ex__', '__repr__', '__rfloordiv__', '__rlshift__', '__rmod__', '__rmul__', '__ror__', '__round__', '__rpow__', '__rrshift__', '__rshift__', '__rsub__', '__rtruediv__', '__rxor__', '__setattr__', '__sizeof__', '__str__', '__sub__', '__subclasshook__', '__truediv__', '__trunc__', '__xor__', 'as_integer_ratio', 'bit_count', 'bit_length', 'conjugate', 'denominator', 'from_bytes', 'imag', 'is_integer', 'numerator', 'real', 'to_bytes']\n"
     ]
    }
   ],
   "source": [
    "# dir BIF\n",
    "print(dir(str))\n",
    "print(dir(int))"
   ]
  },
  {
   "cell_type": "code",
   "execution_count": 4,
   "id": "4675f726",
   "metadata": {},
   "outputs": [
    {
     "name": "stdout",
     "output_type": "stream",
     "text": [
      "Help on method_descriptor:\n",
      "\n",
      "strip(self, chars=None, /)\n",
      "    Return a copy of the string with leading and trailing whitespace removed.\n",
      "\n",
      "    If chars is given and not None, remove characters in chars instead.\n",
      "\n"
     ]
    }
   ],
   "source": [
    "#help BIF\n",
    "help(str.strip)"
   ]
  },
  {
   "cell_type": "code",
   "execution_count": 12,
   "id": "4d527c82",
   "metadata": {},
   "outputs": [
    {
     "name": "stdout",
     "output_type": "stream",
     "text": [
      "    Hello.    \n",
      "'Hello.'\n",
      "'Hello.    '\n",
      "'    Hello.'\n"
     ]
    }
   ],
   "source": [
    "#strip method\n",
    "text = \"    Hello.    \"\n",
    "print(text)\n",
    "print(\"'\" + text.strip() + \"'\")\n",
    "print(\"'\" + text.lstrip()+ \"'\")\n",
    "print(\"'\" + text.rstrip()+ \"'\")"
   ]
  },
  {
   "cell_type": "code",
   "execution_count": 9,
   "id": "839b72e3",
   "metadata": {},
   "outputs": [
    {
     "name": "stdout",
     "output_type": "stream",
     "text": [
      "I love Python\n"
     ]
    }
   ],
   "source": [
    "#replace\n",
    "msg = \"I love Java\"\n",
    "print(msg.replace(\"Java\", \"Python\"))"
   ]
  },
  {
   "cell_type": "code",
   "execution_count": 11,
   "id": "64ade9ac",
   "metadata": {},
   "outputs": [
    {
     "name": "stdout",
     "output_type": "stream",
     "text": [
      "Hello\n",
      "World\n",
      "Hello World\n",
      "Hello World Hello World Hello World Hello World Hello World Hello World Hello World Hello World Hello World Hello World \n"
     ]
    }
   ],
   "source": [
    "#Concatenate and repeat strings\n",
    "s1 = \"Hello\"\n",
    "s2 = \"World\"\n",
    "s3 = s1 + \" \" + s2\n",
    "s4 = (s3 + \" \") * 10\n",
    "print(s1)\n",
    "print(s2)\n",
    "print(s3)\n",
    "print(s4)"
   ]
  },
  {
   "cell_type": "code",
   "execution_count": 13,
   "id": "a376a8bc",
   "metadata": {},
   "outputs": [
    {
     "name": "stdout",
     "output_type": "stream",
     "text": [
      "25 oranges\n"
     ]
    }
   ],
   "source": [
    "#f string\n",
    "n = 25\n",
    "fruit = \"orange\"\n",
    "box=f\"{n} {fruit}s\" \n",
    "print(box)"
   ]
  },
  {
   "cell_type": "code",
   "execution_count": 15,
   "id": "caa90c2c",
   "metadata": {},
   "outputs": [
    {
     "name": "stdout",
     "output_type": "stream",
     "text": [
      "Audrey Linfors\n"
     ]
    }
   ],
   "source": [
    "firstN = \"audrey\"\n",
    "lastN = \"linfors\"\n",
    "fullname = f\"{firstN} {lastN}\"\n",
    "print(fullname.title())"
   ]
  }
 ],
 "metadata": {
  "kernelspec": {
   "display_name": "Python 3 (ipykernel)",
   "language": "python",
   "name": "python3"
  },
  "language_info": {
   "codemirror_mode": {
    "name": "ipython",
    "version": 3
   },
   "file_extension": ".py",
   "mimetype": "text/x-python",
   "name": "python",
   "nbconvert_exporter": "python",
   "pygments_lexer": "ipython3",
   "version": "3.12.1"
  }
 },
 "nbformat": 4,
 "nbformat_minor": 5
}
