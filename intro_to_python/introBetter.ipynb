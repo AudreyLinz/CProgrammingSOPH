{
 "cells": [
  {
   "cell_type": "code",
   "execution_count": null,
   "id": "fb1bf5a0",
   "metadata": {},
   "outputs": [
    {
     "name": "stdout",
     "output_type": "stream",
     "text": [
      "comments\n"
     ]
    }
   ],
   "source": [
    "print(\"comments\")\n",
    "\n",
    "\"\"\"\n",
    "8/20/25\n",
    "intro to python\n",
    "\"\"\"\n",
    "# this is single line comment"
   ]
  },
  {
   "cell_type": "code",
   "execution_count": 2,
   "id": "7cc291df",
   "metadata": {},
   "outputs": [
    {
     "name": "stdout",
     "output_type": "stream",
     "text": [
      "True\n",
      "True\n",
      "False\n",
      "True\n",
      "False\n",
      "True\n"
     ]
    }
   ],
   "source": [
    "print(bool(True))\n",
    "print(bool(1))\n",
    "print(bool(0))\n",
    "\n",
    "# logical operators\n",
    "#not and or\n",
    "print(bool(True or 0))\n",
    "print(bool(True and 0))\n",
    "print(bool(not 0))"
   ]
  },
  {
   "cell_type": "code",
   "execution_count": 3,
   "id": "07398302",
   "metadata": {},
   "outputs": [
    {
     "name": "stdout",
     "output_type": "stream",
     "text": [
      "0.30000000000000004\n"
     ]
    }
   ],
   "source": [
    "#floats\n",
    "n = .1\n",
    "print(n+n+n)"
   ]
  },
  {
   "cell_type": "code",
   "execution_count": 5,
   "id": "a5fbdba2",
   "metadata": {},
   "outputs": [
    {
     "name": "stdout",
     "output_type": "stream",
     "text": [
      "0.3\n"
     ]
    }
   ],
   "source": [
    "#decimal\n",
    "from decimal import Decimal\n",
    "d = Decimal(\".1\") + Decimal(\".1\") + Decimal(\".1\")\n",
    "print(d)"
   ]
  }
 ],
 "metadata": {
  "kernelspec": {
   "display_name": "Python 3 (ipykernel)",
   "language": "python",
   "name": "python3"
  },
  "language_info": {
   "codemirror_mode": {
    "name": "ipython",
    "version": 3
   },
   "file_extension": ".py",
   "mimetype": "text/x-python",
   "name": "python",
   "nbconvert_exporter": "python",
   "pygments_lexer": "ipython3",
   "version": "3.12.1"
  }
 },
 "nbformat": 4,
 "nbformat_minor": 5
}
